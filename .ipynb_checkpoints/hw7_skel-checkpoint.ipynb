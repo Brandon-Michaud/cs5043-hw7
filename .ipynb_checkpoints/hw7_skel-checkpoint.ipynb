{
 "cells": [
  {
   "cell_type": "markdown",
   "id": "c219ac4b-f69e-414a-972f-17ffe34eb840",
   "metadata": {},
   "source": [
    "# Conditional GAN implementation\n",
    "\n",
    "Andrew H. Fagg\n",
    "\n",
    "Advanced Machine Learning\n"
   ]
  },
  {
   "cell_type": "code",
   "execution_count": null,
   "id": "b1c3f4fe-6e71-4aab-800f-579d57ab7266",
   "metadata": {},
   "outputs": [],
   "source": [
    "%reload_ext autoreload\n",
    "%autoreload 2\n",
    "\n",
    "import sys\n",
    "tf_tools = \"../../../../../tf_tools/\"\n",
    "#sys.path.append(tf_tools + \"metrics\")\n",
    "#sys.path.append(tf_tools + \"networks\")\n",
    "sys.path.append(tf_tools + \"experiment_control\")\n",
    "sys.path.append(\"../hw4\")\n",
    "\n",
    "#from job_control import *\n",
    "import argparse\n",
    "import copy\n",
    "import pickle\n",
    "import random\n",
    "from chesapeake_loader import *\n",
    "\n",
    "import tensorflow as tf\n",
    "from tensorflow import keras\n",
    "from tensorflow.keras.models import Sequential\n",
    "from tensorflow.keras.layers import Concatenate, UpSampling2D, Add\n",
    "from tensorflow.keras.layers import Convolution2D, Dense, MaxPooling2D, GlobalMaxPooling2D, Flatten, BatchNormalization, Dropout, SpatialDropout2D\n",
    "from tensorflow.keras import Input, Model\n",
    "from matplotlib import colors\n",
    "from tensorflow.keras.utils import plot_model\n",
    "\n",
    "from gan import *\n",
    "from gan_train_loop import *\n",
    "\n",
    "\n",
    "#################################################################\n",
    "# Default plotting parameters\n",
    "FIGURESIZE=(10,6)\n",
    "FONTSIZE=18\n",
    "\n",
    "plt.rcParams['figure.figsize'] = FIGURESIZE\n",
    "plt.rcParams['font.size'] = FONTSIZE\n",
    "\n",
    "plt.rcParams['xtick.labelsize'] = FONTSIZE\n",
    "plt.rcParams['ytick.labelsize'] = FONTSIZE\n",
    "\n",
    "#################################################################\n",
    "\n"
   ]
  },
  {
   "cell_type": "code",
   "execution_count": null,
   "id": "857c0da9-f299-4eb2-a41a-1811e6c84e78",
   "metadata": {},
   "outputs": [],
   "source": [
    "# Configure the GPU (only use for machines with GPUs)\n",
    "visible_devices = tf.config.get_visible_devices('GPU')\n",
    "for device in visible_devices:\n",
    "    tf.config.experimental.set_memory_growth(device, True)"
   ]
  },
  {
   "cell_type": "code",
   "execution_count": null,
   "id": "09b15d75-7b42-43d5-b9e1-222efa1bc80a",
   "metadata": {},
   "outputs": [],
   "source": [
    "image_size=64\n",
    "n_noise_steps=3\n",
    "batch_size=64\n",
    "n_conv_per_step=2\n",
    "file_base = '/home/fagg/datasets/radiant_earth/pa'"
   ]
  },
  {
   "cell_type": "code",
   "execution_count": null,
   "id": "7289c627-62fc-443d-a61f-2617317c3dc4",
   "metadata": {},
   "outputs": [],
   "source": [
    "ds_train, ds_valid, ds_test, num_classes = create_datasets(base_dir=file_base, full_sat=False, patch_size=image_size, fold=0,\n",
    "                   cache_dir='', repeat_train=True, shuffle_train=200, batch_size=batch_size, prefetch=2, num_parallel_calls=4)"
   ]
  },
  {
   "cell_type": "code",
   "execution_count": null,
   "id": "bba7fe56-8a4b-450d-9df4-714ad106bbb0",
   "metadata": {},
   "outputs": [],
   "source": [
    "d_model, g_model, gtrain_model = create_GAN_model(image_size, \n",
    "                                                  ...)"
   ]
  },
  {
   "cell_type": "code",
   "execution_count": null,
   "id": "5de20847-47b5-4969-bc4d-ff2ee28fd9a0",
   "metadata": {},
   "outputs": [],
   "source": [
    "# Render models\n",
    "plot_model(g_model, to_file='g_model_plot.png', show_shapes=True, show_layer_names=True)\n",
    "plot_model(d_model, to_file='d_model_plot.png', show_shapes=True, show_layer_names=True)\n",
    "plot_model(gtrain_model, to_file='gtrain_model_plot.png', show_shapes=True, show_layer_names=True)\n"
   ]
  },
  {
   "cell_type": "code",
   "execution_count": null,
   "id": "5d892854-e56f-4d5c-a6db-80ef987f69b2",
   "metadata": {
    "scrolled": true,
    "tags": []
   },
   "outputs": [],
   "source": [
    "L_fake, I_fake, I_fake_no_use = train_loop(g_model, d_model, gtrain_model, ds_train, n_noise_steps, \n",
    "                                           image_size, nepochs_meta=50)"
   ]
  },
  {
   "cell_type": "code",
   "execution_count": null,
   "id": "588d011c-24f1-4134-aa86-fb9740469709",
   "metadata": {},
   "outputs": [],
   "source": [
    "render_examples(L_fake, I_fake, I_fake_no_use)"
   ]
  },
  {
   "cell_type": "code",
   "execution_count": null,
   "id": "cf692044-bfb6-4bf4-bf79-b33b6e33e412",
   "metadata": {},
   "outputs": [],
   "source": []
  }
 ],
 "metadata": {
  "kernelspec": {
   "display_name": "Python 3 (ipykernel)",
   "language": "python",
   "name": "python3"
  },
  "language_info": {
   "codemirror_mode": {
    "name": "ipython",
    "version": 3
   },
   "file_extension": ".py",
   "mimetype": "text/x-python",
   "name": "python",
   "nbconvert_exporter": "python",
   "pygments_lexer": "ipython3",
   "version": "3.11.8"
  }
 },
 "nbformat": 4,
 "nbformat_minor": 5
}
